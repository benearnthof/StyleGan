{
  "nbformat": 4,
  "nbformat_minor": 0,
  "metadata": {
    "colab": {
      "name": "interpolation.ipynb",
      "private_outputs": true,
      "provenance": [],
      "collapsed_sections": []
    },
    "kernelspec": {
      "name": "python3",
      "display_name": "Python 3"
    },
    "language_info": {
      "name": "python"
    },
    "accelerator": "GPU"
  },
  "cells": [
    {
      "cell_type": "code",
      "metadata": {
        "id": "yKmF-mozparN"
      },
      "source": [
        "!nvidia-smi -L"
      ],
      "execution_count": null,
      "outputs": []
    },
    {
      "cell_type": "code",
      "metadata": {
        "id": "zc13Fh-RLKH-"
      },
      "source": [
        "!git clone https://github.com/benearnthof/StyleGan.git /content/sg"
      ],
      "execution_count": null,
      "outputs": []
    },
    {
      "cell_type": "code",
      "metadata": {
        "id": "TNAZo5psp5Nh"
      },
      "source": [
        "from google.colab import drive\n",
        "drive.mount(\"/content/drive\")\n",
        "import os"
      ],
      "execution_count": null,
      "outputs": []
    },
    {
      "cell_type": "code",
      "metadata": {
        "id": "_KBls0lyXPrc"
      },
      "source": [
        "os.mkdir(\"/content/sample/\")\n",
        "os.chdir(\"/content/sg\")"
      ],
      "execution_count": null,
      "outputs": []
    },
    {
      "cell_type": "code",
      "metadata": {
        "id": "3UpBByj3LqtC"
      },
      "source": [
        "# required for custom cuda extensions\n",
        "!pip install Ninja"
      ],
      "execution_count": null,
      "outputs": []
    },
    {
      "cell_type": "code",
      "metadata": {
        "id": "-cXYBCOwMpXj"
      },
      "source": [
        "os.chdir(\"/content/sg\")"
      ],
      "execution_count": null,
      "outputs": []
    },
    {
      "cell_type": "code",
      "metadata": {
        "id": "nu97x4hjsgQi"
      },
      "source": [
        "# it appears the 20000 checkpoint for the retina model got corrupted because the server ran out of storage space during training. \n",
        "# unfortunately I only saved checkpoints every 10000 iterations"
      ],
      "execution_count": null,
      "outputs": []
    },
    {
      "cell_type": "code",
      "metadata": {
        "id": "o6qVGsMcYmcS"
      },
      "source": [
        "import torch\n",
        "from torchvision import utils\n",
        "from model2 import Generator\n",
        "from tqdm import tqdm"
      ],
      "execution_count": null,
      "outputs": []
    },
    {
      "cell_type": "code",
      "metadata": {
        "id": "UA24QBsjYxFz"
      },
      "source": [
        "def gen(npics, G, device, seeds = [1], nsample = 1, styledim = 512, truncation = 1.0, trunc_mean = 4096):\n",
        "  with torch.no_grad():\n",
        "    G.eval()\n",
        "    for i in tqdm(range(npics)):\n",
        "      torch.manual_seed(seeds[i])\n",
        "      sample_z = torch.randn(nsample, styledim, device = device)\n",
        "\n",
        "      sample, _ = G(\n",
        "          [sample_z], truncation = truncation, truncation_latent = trunc_mean\n",
        "      )\n",
        "\n",
        "      utils.save_image(\n",
        "          sample, \n",
        "          f\"sample/{str(i).zfill(6)}.png\",\n",
        "          nrow = 1,\n",
        "          normalize = True, \n",
        "          range = (-1, 1),\n",
        "      )"
      ],
      "execution_count": null,
      "outputs": []
    },
    {
      "cell_type": "code",
      "metadata": {
        "id": "p06CZuqiaJDo"
      },
      "source": [
        "device = \"cuda\"\n",
        "G = Generator(\n",
        "    size = 128, style_dim = 512, n_mlp = 8\n",
        ").to(device)"
      ],
      "execution_count": null,
      "outputs": []
    },
    {
      "cell_type": "code",
      "metadata": {
        "id": "IL2bDLy8afXd"
      },
      "source": [
        "checkpoint = torch.load(\"/content/drive/MyDrive/style-based-gan-pytorch/checkpoints_corgi_reg_aug/040000.pt\")"
      ],
      "execution_count": null,
      "outputs": []
    },
    {
      "cell_type": "code",
      "metadata": {
        "id": "J37mYy9Za6UA"
      },
      "source": [
        "G.load_state_dict(checkpoint[\"g_ema\"], strict = False)"
      ],
      "execution_count": null,
      "outputs": []
    },
    {
      "cell_type": "code",
      "metadata": {
        "id": "8Tk49TrGbDaE"
      },
      "source": [
        "n = 25000\n",
        "gen(npics = n, G = G, device = \"cuda\", seeds = range(n))"
      ],
      "execution_count": null,
      "outputs": []
    },
    {
      "cell_type": "code",
      "metadata": {
        "id": "dbbMQGhJRrlM"
      },
      "source": [
        "from google.colab import files\n",
        "!zip -r /content/drive/MyDrive/corgiSample25k_reg_aug.zip /content/sg/sample\n",
        "# files.download(\"/content/drive/MyDrive/retinaSample25k.zip\")"
      ],
      "execution_count": null,
      "outputs": []
    },
    {
      "cell_type": "code",
      "metadata": {
        "id": "dQ8qHjtxfNRN"
      },
      "source": [
        "def linterp(z, steps):\n",
        "  out = []\n",
        "  for i in range(len(z)-1):\n",
        "    for index in range(steps):\n",
        "      t = index/float(steps)\n",
        "      out.append(z[i+1] * t + z[i] * (1-t))\n",
        "  return out"
      ],
      "execution_count": null,
      "outputs": []
    },
    {
      "cell_type": "code",
      "metadata": {
        "id": "9iHFuupAd1xk"
      },
      "source": [
        "def gen_linterp_z(G, device, nsteps = 5, seeds = [0, 2], styledim = 512, truncation = 1.0, trunc_mean = 4096):\n",
        "  with torch.no_grad():\n",
        "    G.eval()\n",
        "    torch.manual_seed(seeds[0])\n",
        "    start = torch.randn(1, styledim, device = device)\n",
        "    torch.manual_seed(seeds[1])\n",
        "    end = torch.randn(1, styledim, device = device)\n",
        "\n",
        "    zs = linterp([start, end], steps = nsteps)\n",
        "\n",
        "    for i in tqdm(range(nsteps)):\n",
        "\n",
        "      sample, _ = G(\n",
        "          [zs[i]], truncation = truncation, truncation_latent = trunc_mean\n",
        "      )\n",
        "\n",
        "      utils.save_image(\n",
        "          sample, \n",
        "          f\"sample/{str(i).zfill(4)}.png\",\n",
        "          nrow = nsteps,\n",
        "          normalize = True, \n",
        "          range = (-1, 1),\n",
        "      )"
      ],
      "execution_count": null,
      "outputs": []
    },
    {
      "cell_type": "code",
      "metadata": {
        "id": "HVlIicj0gtdc"
      },
      "source": [
        "gen_linterp_z(G = G, device = \"cuda\", nsteps = 25)"
      ],
      "execution_count": null,
      "outputs": []
    },
    {
      "cell_type": "code",
      "metadata": {
        "id": "OpJ5Eo48g0yl"
      },
      "source": [
        "import glob\n",
        "from PIL import Image\n",
        "\n",
        "# filepaths\n",
        "fp_in = \"/content/sg/sample/*.png\"\n",
        "fp_out = \"/content/sg/sample/linterp.gif\"\n",
        "\n",
        "# https://pillow.readthedocs.io/en/stable/handbook/image-file-formats.html#gif\n",
        "img, *imgs = [Image.open(f) for f in sorted(glob.glob(fp_in))]\n",
        "img.save(fp=fp_out, format='GIF', append_images=imgs,\n",
        "         save_all=True, duration=200, loop=0)"
      ],
      "execution_count": null,
      "outputs": []
    },
    {
      "cell_type": "code",
      "metadata": {
        "id": "9aUp_xVbiag9"
      },
      "source": [
        "z = start = torch.randn(1, 512, device = device)\n",
        "w = G.style(z)\n",
        "z[0,0], w[0,0]\n",
        "\n",
        "smp, _ = G(w, input_is_latent = True)\n",
        "utils.save_image(\n",
        "          smp, \n",
        "          f\"sample/test.png\",\n",
        "          nrow = 1,\n",
        "          normalize = True, \n",
        "          range = (-1, 1),\n",
        "      )\n"
      ],
      "execution_count": null,
      "outputs": []
    },
    {
      "cell_type": "code",
      "metadata": {
        "id": "31zd5mfBkIae"
      },
      "source": [
        "# G(ws, input_is_latent = True)\n",
        "def gen_linterp_w(G, device, nsteps = 5, seeds = [0, 2], styledim = 512, truncation = 1.0, trunc_mean = 4096):\n",
        "  with torch.no_grad():\n",
        "    G.eval()\n",
        "    torch.manual_seed(seeds[0])\n",
        "    start = torch.randn(1, styledim, device = device)\n",
        "    torch.manual_seed(seeds[1])\n",
        "    end = torch.randn(1, styledim, device = device)\n",
        "\n",
        "    # pass through style network \n",
        "    start_w = G.style(start)\n",
        "    end_w = G.style(end)\n",
        "\n",
        "    ws = linterp([start_w, end_w], steps = nsteps)\n",
        "\n",
        "    for i in tqdm(range(nsteps)):\n",
        "\n",
        "      sample, _ = G(\n",
        "          [ws[i]], \n",
        "          truncation = truncation, \n",
        "          truncation_latent = trunc_mean,\n",
        "          input_is_latent = True\n",
        "      )\n",
        "\n",
        "      utils.save_image(\n",
        "          sample, \n",
        "          f\"sample_w/{str(i).zfill(4)}.png\",\n",
        "          nrow = nsteps,\n",
        "          normalize = True, \n",
        "          range = (-1, 1),\n",
        "      )"
      ],
      "execution_count": null,
      "outputs": []
    },
    {
      "cell_type": "code",
      "metadata": {
        "id": "GwepU_P1oktt"
      },
      "source": [
        "os.getcwd()"
      ],
      "execution_count": null,
      "outputs": []
    },
    {
      "cell_type": "code",
      "metadata": {
        "id": "leH0YlmCrRjZ"
      },
      "source": [
        "os.mkdir(\"/content/sg/sample_w/\")"
      ],
      "execution_count": null,
      "outputs": []
    },
    {
      "cell_type": "code",
      "metadata": {
        "id": "az_q1txsq4OA"
      },
      "source": [
        "gen_linterp_w(G = G, device = \"cuda\", nsteps = 25)"
      ],
      "execution_count": null,
      "outputs": []
    },
    {
      "cell_type": "code",
      "metadata": {
        "id": "4byW07zEtOve"
      },
      "source": [
        "# generate gif\n",
        "fp_in = \"/content/sg/sample_w/*.png\"\n",
        "fp_out = \"/content/sg/sample_w/linterp_w.gif\"\n",
        "\n",
        "# https://pillow.readthedocs.io/en/stable/handbook/image-file-formats.html#gif\n",
        "img, *imgs = [Image.open(f) for f in sorted(glob.glob(fp_in))]\n",
        "img.save(fp=fp_out, format='GIF', append_images=imgs,\n",
        "         save_all=True, duration=200, loop=0)"
      ],
      "execution_count": null,
      "outputs": []
    },
    {
      "cell_type": "code",
      "metadata": {
        "id": "CtHvWDSfubCt"
      },
      "source": [
        "torch.manual_seed(0)\n",
        "start = torch.randn(1, 2, device = \"cpu\")\n",
        "torch.manual_seed(2)\n",
        "end = torch.randn(1, 2, device = \"cpu\")"
      ],
      "execution_count": null,
      "outputs": []
    },
    {
      "cell_type": "code",
      "metadata": {
        "id": "g4Mo8GVsucow"
      },
      "source": [
        "def spherical_interp(steps, start, end):\n",
        "  out = []\n",
        "  for i in range(steps):\n",
        "    t = i / (steps - 1)\n",
        "    if t <= 0: \n",
        "      out.append(start) \n",
        "    elif t >= 1: \n",
        "      out.append(end)\n",
        "    elif torch.allclose(start, end):\n",
        "      out.append(start)\n",
        "    omega = torch.arccos(torch.tensordot(start/torch.linalg.norm(start), end/torch.linalg.norm(end)))\n",
        "    sin_omega = torch.sin(omega)\n",
        "    out.append(np.sin((1.0 - t) * omega) / sin_omega * start + torch.sin(t * omega) / sin_omega * end)\n",
        "  return out"
      ],
      "execution_count": null,
      "outputs": []
    },
    {
      "cell_type": "code",
      "metadata": {
        "id": "RrYNjW0fyMxP"
      },
      "source": [
        "spherical_interp(10, start, end)[0]"
      ],
      "execution_count": null,
      "outputs": []
    },
    {
      "cell_type": "code",
      "metadata": {
        "id": "ii_NQF8X0Ey0"
      },
      "source": [
        "def gen_slerp_z(G, device, nsteps = 5, seeds = [0, 2], styledim = 512, truncation = 1.0, trunc_mean = 4096):\n",
        "  with torch.no_grad():\n",
        "    G.eval()\n",
        "    torch.manual_seed(seeds[0])\n",
        "    start = torch.randn(1, styledim, device = device)\n",
        "    torch.manual_seed(seeds[1])\n",
        "    end = torch.randn(1, styledim, device = device)\n",
        "\n",
        "    zs = spherical_interp(steps = nsteps, start = start.cpu(), end = end.cpu())\n",
        "    zs = torch.stack(zs)\n",
        "    zs = zs.to(torch.device('cuda'))\n",
        "\n",
        "    for i in tqdm(range(nsteps)):\n",
        "\n",
        "      sample, _ = G(\n",
        "          [zs[i]], truncation = truncation, truncation_latent = trunc_mean\n",
        "      )\n",
        "\n",
        "      utils.save_image(\n",
        "          sample, \n",
        "          f\"sample_spherical/{str(i).zfill(4)}.png\",\n",
        "          nrow = nsteps,\n",
        "          normalize = True, \n",
        "          range = (-1, 1),\n",
        "      )"
      ],
      "execution_count": null,
      "outputs": []
    },
    {
      "cell_type": "code",
      "metadata": {
        "id": "VZBZupSy3JZ-"
      },
      "source": [
        "# G(ws, input_is_latent = True)\n",
        "def gen_slerp_w(G, device, nsteps = 5, seeds = [0, 2], styledim = 512, truncation = 1.0, trunc_mean = 4096):\n",
        "  with torch.no_grad():\n",
        "    G.eval()\n",
        "    torch.manual_seed(seeds[0])\n",
        "    start = torch.randn(1, styledim, device = device)\n",
        "    torch.manual_seed(seeds[1])\n",
        "    end = torch.randn(1, styledim, device = device)\n",
        "\n",
        "    # pass through style network \n",
        "    start_w = G.style(start)\n",
        "    end_w = G.style(end)\n",
        "\n",
        "    ws = spherical_interp(steps = nsteps, start = start_w.cpu(), end = end_w.cpu())\n",
        "    ws = torch.stack(ws)\n",
        "    ws = ws.to(torch.device('cuda'))\n",
        "    for i in tqdm(range(nsteps)):\n",
        "\n",
        "      sample, _ = G(\n",
        "          [ws[i]], \n",
        "          truncation = truncation, \n",
        "          truncation_latent = trunc_mean,\n",
        "          input_is_latent = True\n",
        "      )\n",
        "\n",
        "      utils.save_image(\n",
        "          sample, \n",
        "          f\"sample_spherical_w/{str(i).zfill(4)}.png\",\n",
        "          nrow = nsteps,\n",
        "          normalize = True, \n",
        "          range = (-1, 1),\n",
        "      )"
      ],
      "execution_count": null,
      "outputs": []
    },
    {
      "cell_type": "code",
      "metadata": {
        "id": "kj6c1yur4AM7"
      },
      "source": [
        "if not os.path.exists(\"/content/sg/sample_spherical/\"):\n",
        "  os.mkdir(\"/content/sg/sample_spherical/\")\n",
        "if not os.path.exists(\"/content/sg/sample_spherical_w/\"):\n",
        "  os.mkdir(\"/content/sg/sample_spherical_w/\")"
      ],
      "execution_count": null,
      "outputs": []
    },
    {
      "cell_type": "code",
      "metadata": {
        "id": "ZNI-LzR4410C"
      },
      "source": [
        "gen_slerp_z(G = G, device = \"cuda\", nsteps = 25)"
      ],
      "execution_count": null,
      "outputs": []
    },
    {
      "cell_type": "code",
      "metadata": {
        "id": "npMy-xc789Mr"
      },
      "source": [
        "gen_slerp_w(G = G, device = \"cuda\", nsteps = 25)"
      ],
      "execution_count": null,
      "outputs": []
    },
    {
      "cell_type": "code",
      "metadata": {
        "id": "tF5s9Pd-9BB9"
      },
      "source": [
        "# generate gif\n",
        "fp_in = \"/content/sg/sample_spherical/*.png\"\n",
        "fp_out = \"/content/sg/sample_spherical/slerp.gif\"\n",
        "\n",
        "# https://pillow.readthedocs.io/en/stable/handbook/image-file-formats.html#gif\n",
        "img, *imgs = [Image.open(f) for f in sorted(glob.glob(fp_in))]\n",
        "img.save(fp=fp_out, format='GIF', append_images=imgs,\n",
        "         save_all=True, duration=200, loop=0)"
      ],
      "execution_count": null,
      "outputs": []
    },
    {
      "cell_type": "code",
      "metadata": {
        "id": "4XpHBArB9H0L"
      },
      "source": [
        "# generate gif (should probably wrap this in function at this point)\n",
        "fp_in = \"/content/sg/sample_spherical_w/*.png\"\n",
        "fp_out = \"/content/sg/sample_spherical_w/slerp_w.gif\"\n",
        "\n",
        "# https://pillow.readthedocs.io/en/stable/handbook/image-file-formats.html#gif\n",
        "img, *imgs = [Image.open(f) for f in sorted(glob.glob(fp_in))]\n",
        "img.save(fp=fp_out, format='GIF', append_images=imgs,\n",
        "         save_all=True, duration=200, loop=0)"
      ],
      "execution_count": null,
      "outputs": []
    },
    {
      "cell_type": "code",
      "metadata": {
        "id": "dcMTclIC-GX6"
      },
      "source": [
        "os.mkdir(\"/content/sg/zippedfiles\")"
      ],
      "execution_count": null,
      "outputs": []
    },
    {
      "cell_type": "code",
      "metadata": {
        "id": "NUG2-gCE96dL"
      },
      "source": [
        ""
      ],
      "execution_count": null,
      "outputs": []
    },
    {
      "cell_type": "code",
      "metadata": {
        "id": "HDyhsD2K-e-6"
      },
      "source": [
        "import sys\n",
        "from PIL import Image\n",
        "\n",
        "\"/content/sg/sample_spherical_w/*.png\"\n",
        "\n",
        "def imgcombine(path):\n",
        "  fp_in = os.path.join(path, \"*.png\")\n",
        "  fp_out = os.path.join(path, \"combined.png\")\n",
        "  img, *imgs = [Image.open(f) for f in sorted(glob.glob(fp_in))]\n",
        "  widths, heights = zip(*(i.size for i in imgs))\n",
        "\n",
        "  total_width = sum(widths)\n",
        "  max_height = max(heights)\n",
        "\n",
        "  new_im = Image.new('RGB', (total_width, max_height))\n",
        "\n",
        "  x_offset = 0\n",
        "  for im in imgs:\n",
        "    new_im.paste(im, (x_offset,0))\n",
        "    x_offset += im.size[0]\n",
        "\n",
        "  new_im.save(fp_out)"
      ],
      "execution_count": null,
      "outputs": []
    },
    {
      "cell_type": "code",
      "metadata": {
        "id": "8iKCL7l7B1YM"
      },
      "source": [
        "imgcombine(\"/content/sg/sample_spherical_w/\")\n",
        "imgcombine(\"/content/sg/sample_spherical/\")\n",
        "imgcombine(\"/content/sg/sample/\")\n",
        "imgcombine(\"/content/sg/sample_w/\")"
      ],
      "execution_count": null,
      "outputs": []
    },
    {
      "cell_type": "code",
      "metadata": {
        "id": "1XHXebS2C-_s"
      },
      "source": [
        "# imgcombine(\"/content/sg/sample_spherical_w/\")"
      ],
      "execution_count": null,
      "outputs": []
    },
    {
      "cell_type": "code",
      "metadata": {
        "id": "iYREtAdX-zM6"
      },
      "source": [
        "# zip and download folders \n",
        "!zip -r /content/sg/zippedfiles/sample.zip /content/sg/sample/\n",
        "!zip -r /content/sg/zippedfiles/sample_w.zip /content/sg/sample_w/\n",
        "!zip -r /content/sg/zippedfiles/sample_spherical.zip /content/sg/sample_spherical//\n",
        "!zip -r /content/sg/zippedfiles/sample_spherical_w.zip /content/sg/sample_spherical_w/"
      ],
      "execution_count": null,
      "outputs": []
    },
    {
      "cell_type": "code",
      "metadata": {
        "id": "bwRWJMREAkaG"
      },
      "source": [
        "from google.colab import files\n",
        "files.download(\"/content/sg/zippedfiles/sample.zip\")\n",
        "files.download(\"/content/sg/zippedfiles/sample_w.zip\")\n",
        "files.download(\"/content/sg/zippedfiles/sample_spherical.zip\")\n",
        "files.download(\"/content/sg/zippedfiles/sample_spherical_w.zip\")"
      ],
      "execution_count": null,
      "outputs": []
    },
    {
      "cell_type": "code",
      "metadata": {
        "id": "qxRd95wlCMBQ"
      },
      "source": [
        "# combine combinations\n",
        "def imgcombine(path):\n",
        "  fp_in = os.path.join(path, \"*.png\")\n",
        "  fp_out = os.path.join(path, \"combined.png\")\n",
        "  img, *imgs = [Image.open(f) for f in sorted(glob.glob(fp_in))]\n",
        "  widths, heights = zip(*(i.size for i in imgs))\n",
        "\n",
        "  total_width = sum(widths)\n",
        "  max_height = max(heights)\n",
        "\n",
        "  new_im = Image.new('RGB', (total_width, max_height))\n",
        "\n",
        "  x_offset = 0\n",
        "  for im in imgs:\n",
        "    new_im.paste(im, (x_offset,0))\n",
        "    x_offset += im.size[0]\n",
        "\n",
        "  new_im.save(fp_out)"
      ],
      "execution_count": null,
      "outputs": []
    }
  ]
}
